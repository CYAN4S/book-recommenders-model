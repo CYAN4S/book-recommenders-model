{
 "cells": [
  {
   "cell_type": "code",
   "execution_count": 1,
   "metadata": {
    "collapsed": true,
    "pycharm": {
     "name": "#%%\n"
    }
   },
   "outputs": [],
   "source": [
    "import numpy as np\n",
    "import tensorflow as tf\n",
    "import tensorflow_recommenders as tfrs\n",
    "import json"
   ]
  },
  {
   "cell_type": "code",
   "execution_count": 2,
   "metadata": {
    "collapsed": false,
    "pycharm": {
     "name": "#%%\n"
    }
   },
   "outputs": [],
   "source": [
    "with open(\"books-cyan.json\", \"r\", encoding=\"utf-8\") as f:\n",
    "    books: list[dict[str, any]] = json.load(f)\n",
    "\n",
    "with open(\"pairs-cyan.json\", \"r\", encoding=\"utf-8\") as f:\n",
    "    pairs: list[list[int]] = json.load(f)"
   ]
  },
  {
   "cell_type": "code",
   "execution_count": 3,
   "metadata": {
    "collapsed": false,
    "pycharm": {
     "name": "#%%\n"
    }
   },
   "outputs": [],
   "source": [
    "books = list(filter(lambda x: x[\"isbn13\"] is not None and x[\"category\"] is not None, books))\n",
    "\n",
    "books = list(map(lambda x: {\"isbn13\": str(x[\"isbn13\"])}, books))\n",
    "\n",
    "books_dataset = tf.data.Dataset.from_tensor_slices([x[\"isbn13\"] for x in books]).cache()"
   ]
  },
  {
   "cell_type": "code",
   "execution_count": 6,
   "metadata": {
    "collapsed": false,
    "pycharm": {
     "name": "#%%\n"
    }
   },
   "outputs": [],
   "source": [
    "pairs_ndarray = np.array(pairs).astype(str)\n",
    "\n",
    "pairs_tmp = [{\"query\": tf.convert_to_tensor(x[0], dtype=tf.string),\n",
    "              \"candidate\": tf.convert_to_tensor(x[1], dtype=tf.string)} for x in pairs_ndarray]\n",
    "\n",
    "pairs_dataset = tf.data.Dataset.from_generator(\n",
    "    lambda: pairs_tmp,\n",
    "    {\"query\": tf.string, \"candidate\": tf.string},\n",
    "    {\"query\": (), \"candidate\": ()}\n",
    ").cache()"
   ]
  },
  {
   "cell_type": "code",
   "execution_count": 5,
   "metadata": {
    "collapsed": false,
    "pycharm": {
     "name": "#%%\n"
    }
   },
   "outputs": [],
   "source": [
    "unique_isbns = np.unique(np.array([str(book[\"isbn13\"]) for book in books]))"
   ]
  },
  {
   "cell_type": "code",
   "execution_count": null,
   "metadata": {
    "collapsed": false,
    "pycharm": {
     "name": "#%%\n"
    }
   },
   "outputs": [],
   "source": [
    "embedding_dimension = 32\n",
    "\n",
    "query_model = tf.keras.Sequential([\n",
    "    tf.keras.layers.StringLookup(vocabulary=unique_isbns, mask_token=None),\n",
    "    tf.keras.layers.Embedding(len(unique_isbns) + 1, embedding_dimension)\n",
    "], name=\"query_model\")\n",
    "\n",
    "candidate_model = tf.keras.Sequential([\n",
    "    tf.keras.layers.StringLookup(vocabulary=unique_isbns, mask_token=None),\n",
    "    tf.keras.layers.Embedding(len(unique_isbns) + 1, embedding_dimension)\n",
    "], name=\"candidate_model\")"
   ]
  },
  {
   "cell_type": "code",
   "execution_count": null,
   "metadata": {
    "collapsed": false,
    "pycharm": {
     "name": "#%%\n"
    }
   },
   "outputs": [],
   "source": [
    "metrics = tfrs.metrics.FactorizedTopK(candidates=books_dataset.batch(128).map(candidate_model))\n",
    "\n",
    "task = tfrs.tasks.Retrieval(metrics=metrics)"
   ]
  },
  {
   "cell_type": "code",
   "execution_count": null,
   "metadata": {
    "collapsed": false,
    "pycharm": {
     "name": "#%%\n"
    }
   },
   "outputs": [],
   "source": [
    "class BookModel(tfrs.Model):\n",
    "    def __init__(self, query_model, candidate_model):\n",
    "        super().__init__()\n",
    "        self.query_model: tf.keras.Model = query_model\n",
    "        self.candidate_model: tf.keras.Model = candidate_model\n",
    "        self.task: tf.keras.layers.Layer = task\n",
    "\n",
    "    def compute_loss(self, features: dict[tf.string, tf.string], training=False) -> tf.Tensor:\n",
    "        query_embeddings = self.query_model(features[\"query\"])\n",
    "        candidate_embeddings = self.candidate_model(features[\"candidate\"])\n",
    "\n",
    "        return self.task(query_embeddings, candidate_embeddings)"
   ]
  },
  {
   "cell_type": "code",
   "execution_count": null,
   "metadata": {
    "collapsed": false,
    "pycharm": {
     "name": "#%%\n"
    }
   },
   "outputs": [],
   "source": [
    "model = BookModel(query_model, candidate_model)\n",
    "model.compile(optimizer=tf.keras.optimizers.Adagrad(learning_rate=0.1))"
   ]
  },
  {
   "cell_type": "code",
   "execution_count": null,
   "metadata": {
    "collapsed": false,
    "pycharm": {
     "name": "#%%\n"
    }
   },
   "outputs": [],
   "source": [
    "shuffled = pairs_dataset.shuffle(10000, reshuffle_each_iteration=False).cache()\n",
    "\n",
    "train = shuffled.batch(1000).cache()\n",
    "\n",
    "cached_train = train.shuffle(1000)"
   ]
  },
  {
   "cell_type": "code",
   "execution_count": null,
   "outputs": [],
   "source": [
    "model.fit(cached_train, epochs=20)"
   ],
   "metadata": {
    "collapsed": false,
    "pycharm": {
     "name": "#%%\n"
    }
   }
  },
  {
   "cell_type": "code",
   "execution_count": null,
   "metadata": {
    "collapsed": false,
    "pycharm": {
     "name": "#%%\n"
    }
   },
   "outputs": [],
   "source": [
    "index = tfrs.layers.factorized_top_k.BruteForce(model.query_model)\n",
    "\n",
    "index.index_from_dataset(\n",
    "    tf.data.Dataset.zip((books_dataset.batch(100), books_dataset.batch(100).map(model.candidate_model)))\n",
    ")"
   ]
  },
  {
   "cell_type": "code",
   "execution_count": null,
   "metadata": {
    "collapsed": false,
    "pycharm": {
     "name": "#%%\n"
    }
   },
   "outputs": [],
   "source": [
    "# Get recommendations.\n",
    "_, titles = index(tf.constant([\"9791196918033\"]))\n",
    "print(f\"Related: {titles[0, :10]}\")"
   ]
  },
  {
   "cell_type": "code",
   "execution_count": null,
   "metadata": {
    "collapsed": false,
    "pycharm": {
     "name": "#%%\n"
    }
   },
   "outputs": [],
   "source": [
    "tf.saved_model.save(index, \"./result\")"
   ]
  },
  {
   "cell_type": "code",
   "execution_count": null,
   "outputs": [],
   "source": [
    "loaded = tf.saved_model.load(\"./result\")\n",
    "\n",
    "query_isbn = \"9788966263363\"\n",
    "x = loaded(tf.constant([query_isbn]))"
   ],
   "metadata": {
    "collapsed": false,
    "pycharm": {
     "name": "#%%\n"
    }
   }
  }
 ],
 "metadata": {
  "kernelspec": {
   "display_name": "Python 3",
   "language": "python",
   "name": "python3"
  },
  "language_info": {
   "codemirror_mode": {
    "name": "ipython",
    "version": 2
   },
   "file_extension": ".py",
   "mimetype": "text/x-python",
   "name": "python",
   "nbconvert_exporter": "python",
   "pygments_lexer": "ipython2",
   "version": "2.7.6"
  }
 },
 "nbformat": 4,
 "nbformat_minor": 0
}